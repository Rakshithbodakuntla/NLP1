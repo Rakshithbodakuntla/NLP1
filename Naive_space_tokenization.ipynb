{
  "nbformat": 4,
  "nbformat_minor": 0,
  "metadata": {
    "colab": {
      "provenance": [],
      "authorship_tag": "ABX9TyPUEK3l4S5heLRx9IKuZ/zr",
      "include_colab_link": true
    },
    "kernelspec": {
      "name": "python3",
      "display_name": "Python 3"
    },
    "language_info": {
      "name": "python"
    }
  },
  "cells": [
    {
      "cell_type": "markdown",
      "metadata": {
        "id": "view-in-github",
        "colab_type": "text"
      },
      "source": [
        "<a href=\"https://colab.research.google.com/github/Rakshithbodakuntla/NLP1/blob/main/Naive_space_tokenization.ipynb\" target=\"_parent\"><img src=\"https://colab.research.google.com/assets/colab-badge.svg\" alt=\"Open In Colab\"/></a>"
      ]
    },
    {
      "cell_type": "code",
      "execution_count": 1,
      "metadata": {
        "colab": {
          "base_uri": "https://localhost:8080/"
        },
        "id": "Ny6OmGZl68W2",
        "outputId": "85a8f7e4-9074-4560-90df-a3d89425b6bc"
      },
      "outputs": [
        {
          "output_type": "stream",
          "name": "stdout",
          "text": [
            "Naïve Tokenization:\n",
            "['The', 'students', 'didn’t', 'finish', 'their', 'work', 'on', 'time.', 'However,', 'they', 'promised', 'to', 'submit', 'it', 'tomorrow!', 'Let’s', 'hope', 'they', 'keep', 'their', 'word.']\n",
            "\n",
            "Corrected Tokenization:\n",
            "['The', 'students', 'didn', '’t', 'finish', 'their', 'work', 'on', 'time', '.', 'However', ',', 'they', 'promised', 'to', 'submit', 'it', 'tomorrow', '!', 'Let', '’s', 'hope', 'they', 'keep', 'their', 'word', '.']\n"
          ]
        }
      ],
      "source": [
        "import re\n",
        "paragraph = \"The students didn’t finish their work on time. However, they promised to submit it tomorrow! Let’s hope they keep their word.\"\n",
        "\n",
        "naive_tokens = paragraph.split()\n",
        "\n",
        "\n",
        "corrected_tokens = re.findall(r\"\\w+|’\\w+|n't|[.,!?]\", paragraph)\n",
        "\n",
        "# Print results\n",
        "print(\"Naïve Tokenization:\")\n",
        "print(naive_tokens)\n",
        "print(\"\\nCorrected Tokenization:\")\n",
        "print(corrected_tokens)\n"
      ]
    },
    {
      "cell_type": "code",
      "source": [
        "import re\n",
        "\n",
        "# Sample paragraph\n",
        "paragraph = \"The students didn’t finish their work on time. However, they promised to submit it tomorrow! Let’s hope they keep their word.\"\n",
        "\n",
        "naive_tokens = paragraph.split()\n",
        "\n",
        "corrected_tokens = re.findall(r\"\\w+|’\\w+|n't|[.,!?]\", paragraph)\n",
        "\n",
        "print(\"Naïve Tokenization:\")\n",
        "print(naive_tokens)\n",
        "\n",
        "print(\"\\nCorrected Tokenization:\")\n",
        "print(corrected_tokens)\n",
        "\n",
        "print(\"\\nDifferences:\")\n",
        "for n, c in zip(naive_tokens, corrected_tokens):\n",
        "    if n != c:\n",
        "        print(f\"Naïve: {n:<10}  →  Corrected: {c}\")\n",
        "\n",
        "# If lengths differ (extra tokens in corrected version)\n",
        "if len(corrected_tokens) > len(naive_tokens):\n",
        "    extra = corrected_tokens[len(naive_tokens):]\n",
        "    print(\"\\nExtra tokens in corrected version:\", extra)\n"
      ],
      "metadata": {
        "colab": {
          "base_uri": "https://localhost:8080/"
        },
        "id": "fjLQVbwb7VUq",
        "outputId": "6291620f-467c-49b5-d204-49f648e8c1d5"
      },
      "execution_count": 2,
      "outputs": [
        {
          "output_type": "stream",
          "name": "stdout",
          "text": [
            "Naïve Tokenization:\n",
            "['The', 'students', 'didn’t', 'finish', 'their', 'work', 'on', 'time.', 'However,', 'they', 'promised', 'to', 'submit', 'it', 'tomorrow!', 'Let’s', 'hope', 'they', 'keep', 'their', 'word.']\n",
            "\n",
            "Corrected Tokenization:\n",
            "['The', 'students', 'didn', '’t', 'finish', 'their', 'work', 'on', 'time', '.', 'However', ',', 'they', 'promised', 'to', 'submit', 'it', 'tomorrow', '!', 'Let', '’s', 'hope', 'they', 'keep', 'their', 'word', '.']\n",
            "\n",
            "Differences:\n",
            "Naïve: didn’t      →  Corrected: didn\n",
            "Naïve: finish      →  Corrected: ’t\n",
            "Naïve: their       →  Corrected: finish\n",
            "Naïve: work        →  Corrected: their\n",
            "Naïve: on          →  Corrected: work\n",
            "Naïve: time.       →  Corrected: on\n",
            "Naïve: However,    →  Corrected: time\n",
            "Naïve: they        →  Corrected: .\n",
            "Naïve: promised    →  Corrected: However\n",
            "Naïve: to          →  Corrected: ,\n",
            "Naïve: submit      →  Corrected: they\n",
            "Naïve: it          →  Corrected: promised\n",
            "Naïve: tomorrow!   →  Corrected: to\n",
            "Naïve: Let’s       →  Corrected: submit\n",
            "Naïve: hope        →  Corrected: it\n",
            "Naïve: they        →  Corrected: tomorrow\n",
            "Naïve: keep        →  Corrected: !\n",
            "Naïve: their       →  Corrected: Let\n",
            "Naïve: word.       →  Corrected: ’s\n",
            "\n",
            "Extra tokens in corrected version: ['hope', 'they', 'keep', 'their', 'word', '.']\n"
          ]
        }
      ]
    },
    {
      "cell_type": "code",
      "source": [
        "# Q3: Detect Multiword Expressions (MWEs) in a paragraph\n",
        "\n",
        "# Sample paragraph\n",
        "paragraph = \"John lives in New York City. By and large, he enjoys it there, \\\n",
        "but sometimes he feels like he might kick the bucket from stress.\"\n",
        "\n",
        "# List of MWEs\n",
        "mwe_list = [\n",
        "    \"New York City\",\n",
        "    \"kick the bucket\",\n",
        "    \"by and large\"\n",
        "]\n",
        "\n",
        "# Normalize paragraph (lowercase for easy matching)\n",
        "lower_text = paragraph.lower()\n",
        "\n",
        "# Detect MWEs\n",
        "detected = [mwe for mwe in mwe_list if mwe.lower() in lower_text]\n",
        "\n",
        "# Print results\n",
        "print(\"Paragraph:\")\n",
        "print(paragraph)\n",
        "print(\"\\nDetected MWEs:\")\n",
        "for m in detected:\n",
        "    print(\"-\", m)\n"
      ],
      "metadata": {
        "colab": {
          "base_uri": "https://localhost:8080/"
        },
        "id": "0-azPaje7fQF",
        "outputId": "9fe7906d-8b4e-418c-d437-aa6be7bbdec2"
      },
      "execution_count": 4,
      "outputs": [
        {
          "output_type": "stream",
          "name": "stdout",
          "text": [
            "Paragraph:\n",
            "John lives in New York City. By and large, he enjoys it there, but sometimes he feels like he might kick the bucket from stress.\n",
            "\n",
            "Detected MWEs:\n",
            "- New York City\n",
            "- kick the bucket\n",
            "- by and large\n"
          ]
        }
      ]
    }
  ]
}